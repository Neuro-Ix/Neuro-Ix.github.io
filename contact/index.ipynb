{
  "cells": [
    {
      "cell_type": "raw",
      "metadata": {},
      "source": [
        "---\n",
        "title: Contact\n",
        "---"
      ],
      "id": "5efbbe5e"
    },
    {
      "cell_type": "markdown",
      "metadata": {},
      "source": [
        "If you’re interested in joining the lab, please [fill out this form](https://docs.google.com/forms/d/e/1FAIpQLSfUGxxQXknK1EXk4omb1Iyi5yVZHz5zsrpesy027biK0POcrg/viewform){target=\"_blank\"}.\n",
        "\n",
        "For all other enquiries email [Sylvain Bouix](mailto:sylvain.bouix@etsmtl.ca){target=\"_blank\"}."
      ],
      "id": "1451ce62"
    }
  ],
  "metadata": {
    "kernelspec": {
      "name": "python3",
      "language": "python",
      "display_name": "Python 3 (ipykernel)"
    }
  },
  "nbformat": 4,
  "nbformat_minor": 5
}